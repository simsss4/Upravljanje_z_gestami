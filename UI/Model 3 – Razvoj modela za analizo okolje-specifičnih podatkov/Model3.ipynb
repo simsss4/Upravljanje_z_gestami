{
 "cells": [
  {
   "cell_type": "code",
   "execution_count": 2,
   "id": "bb309f84-6b18-40af-bc45-5400470b0b7c",
   "metadata": {},
   "outputs": [],
   "source": [
    "import os\n",
    "import cv2\n",
    "import numpy as np\n",
    "import tensorflow as tf\n",
    "from tensorflow.keras import layers, models, callbacks"
   ]
  },
  {
   "cell_type": "code",
   "execution_count": 3,
   "id": "51b306b8-6c64-413d-8a30-2109db6b6e6e",
   "metadata": {},
   "outputs": [],
   "source": [
    "# Configuration\n",
    "DATA_DIR = \"Podatki/Posnetki\"\n",
    "IMG_SIZE = (224, 224)\n",
    "BATCH_SIZE = 32\n",
    "EPOCHS = 15"
   ]
  },
  {
   "cell_type": "code",
   "execution_count": 10,
   "id": "6cee53ed-2786-4b4e-88c3-d7d2189c82bf",
   "metadata": {},
   "outputs": [],
   "source": [
    "def extract_frames(video_path, num_frames=10):\n",
    "    \"\"\"Extract frames from video file\"\"\"\n",
    "    return np.array(frames)"
   ]
  },
  {
   "cell_type": "code",
   "execution_count": 11,
   "id": "6d0ae5ce-ec30-44d6-b70d-e20261a17519",
   "metadata": {},
   "outputs": [],
   "source": [
    "def build_cnn_model():\n",
    "    \"\"\"CNN model\"\"\"\n",
    "    model = models.Sequential([\n",
    "        layers.Rescaling(1./255, input_shape=(*IMG_SIZE, 3)),\n",
    "        layers.Conv2D(16, 3, activation='relu'),\n",
    "        layers.MaxPooling2D(),\n",
    "        layers.Conv2D(32, 3, activation='relu'),\n",
    "        layers.MaxPooling2D(),\n",
    "        layers.Conv2D(64, 3, activation='relu'),\n",
    "        layers.MaxPooling2D(),\n",
    "        layers.Flatten(),\n",
    "        layers.Dense(128, activation='relu'),\n",
    "        layers.Dense(1, activation='sigmoid')\n",
    "    ])\n",
    "    \n",
    "    model.compile(\n",
    "        optimizer='adam',\n",
    "        loss='binary_crossentropy',\n",
    "        metrics=['accuracy']\n",
    "    )\n",
    "    \n",
    "    return model"
   ]
  },
  {
   "cell_type": "code",
   "execution_count": 13,
   "id": "0aa49d75-0948-4338-8c01-aad9a2b9707e",
   "metadata": {},
   "outputs": [],
   "source": [
    "def train_model():\n",
    "    # Load datasets\n",
    "    print(\"Loading training data...\")\n",
    "    X_train, y_train = create_dataset(os.path.join(DATA_DIR, \"Učni\"))\n",
    "    print(\"Loading validation data...\")\n",
    "    X_val, y_val = create_dataset(os.path.join(DATA_DIR, \"Validacijski\"))\n",
    "    print(\"Loading test data...\")\n",
    "    X_test, y_test = create_dataset(os.path.join(DATA_DIR, \"Testni\"))\n",
    "\n",
    "    # Build model\n",
    "    model = build_cnn_model()\n",
    "    model.summary()\n",
    "\n",
    "    # Callbacks\n",
    "    callbacks = [\n",
    "        callbacks.EarlyStopping(patience=3, restore_best_weights=True),\n",
    "        callbacks.ModelCheckpoint(\"best_model.h5\", save_best_only=True)\n",
    "    ]\n",
    "\n",
    "    # Train\n",
    "    history = model.fit(\n",
    "        X_train, y_train,\n",
    "        validation_data=(X_val, y_val),\n",
    "        batch_size=BATCH_SIZE,\n",
    "        epochs=EPOCHS,\n",
    "        callbacks=callbacks\n",
    "    )\n",
    "\n",
    "    # Evaluate\n",
    "    test_loss, test_acc = model.evaluate(X_test, y_test)\n",
    "    print(f\"\\nTest Accuracy: {test_acc:.4f}\")\n",
    "    \n",
    "    return model"
   ]
  }
 ],
 "metadata": {
  "kernelspec": {
   "display_name": "Python 3 (ipykernel)",
   "language": "python",
   "name": "python3"
  },
  "language_info": {
   "codemirror_mode": {
    "name": "ipython",
    "version": 3
   },
   "file_extension": ".py",
   "mimetype": "text/x-python",
   "name": "python",
   "nbconvert_exporter": "python",
   "pygments_lexer": "ipython3",
   "version": "3.8.20"
  }
 },
 "nbformat": 4,
 "nbformat_minor": 5
}
