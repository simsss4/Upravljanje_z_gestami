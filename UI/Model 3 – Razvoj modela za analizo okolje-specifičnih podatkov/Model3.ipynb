{
 "cells": [
  {
   "cell_type": "code",
   "execution_count": 2,
   "id": "bb309f84-6b18-40af-bc45-5400470b0b7c",
   "metadata": {},
   "outputs": [],
   "source": [
    "import torch # Delo z matriki z CPU/GPU podporo\n",
    "from torchvision import datasets, transforms # Predprocesiranje slik\n",
    "from torch.utils.data import DataLoader # Obravnava podatkov po manjših sklopih"
   ]
  },
  {
   "cell_type": "code",
   "execution_count": 4,
   "id": "51b306b8-6c64-413d-8a30-2109db6b6e6e",
   "metadata": {},
   "outputs": [],
   "source": [
    "data_dir = 'Podatki_split'"
   ]
  },
  {
   "cell_type": "code",
   "execution_count": 5,
   "id": "6cee53ed-2786-4b4e-88c3-d7d2189c82bf",
   "metadata": {},
   "outputs": [],
   "source": [
    "# Definicija transofrmacije za konsistentnost podatkov (CNN želi 224x224, normalizacija)\n",
    "transform = transforms.Compose([\n",
    "    transforms.Resize((224, 224)),\n",
    "    transforms.ToTensor(),\n",
    "    transforms.Normalize([0.5, 0.5, 0.5], [0.5, 0.5, 0.5])\n",
    "])"
   ]
  },
  {
   "cell_type": "code",
   "execution_count": 6,
   "id": "6d0ae5ce-ec30-44d6-b70d-e20261a17519",
   "metadata": {},
   "outputs": [],
   "source": [
    "# Naloži slike iz map\n",
    "batch_size = 32\n",
    "\n",
    "train_dataset = datasets.ImageFolder(root=f'{data_dir}/timeofday/train', transform=transform)\n",
    "val_dataset   = datasets.ImageFolder(root=f'{data_dir}/timeofday/val', transform=transform)\n",
    "test_dataset  = datasets.ImageFolder(root=f'{data_dir}/timeofday/test', transform=transform)"
   ]
  },
  {
   "cell_type": "code",
   "execution_count": 7,
   "id": "0aa49d75-0948-4338-8c01-aad9a2b9707e",
   "metadata": {},
   "outputs": [],
   "source": [
    "# Razdeli slike po sklopih, boljša učinkovitost\n",
    "train_loader = DataLoader(train_dataset, batch_size=batch_size, shuffle=True)\n",
    "val_loader = DataLoader(val_dataset, batch_size=batch_size)\n",
    "test_loader = DataLoader(test_dataset, batch_size=batch_size)"
   ]
  },
  {
   "cell_type": "code",
   "execution_count": 9,
   "id": "82424dcb-5ebc-409d-bc1f-3dc145aebb21",
   "metadata": {},
   "outputs": [
    {
     "name": "stdout",
     "output_type": "stream",
     "text": [
      "Oznake/Labels: ['day', 'night']\n",
      "Število slik v učnem sklopu: 6430\n"
     ]
    }
   ],
   "source": [
    "print(\"Oznake/Labels:\", train_dataset.classes)\n",
    "print(\"Število slik v učnem sklopu:\", len(train_dataset))"
   ]
  },
  {
   "cell_type": "markdown",
   "id": "775e6676-c033-44cc-8e7c-e7d7e81ee4b4",
   "metadata": {},
   "source": [
    "#### Training a Classifier: https://docs.pytorch.org/tutorials/beginner/blitz/cifar10_tutorial.html\n",
    "##### Docs: https://www.geeksforgeeks.org/introduction-convolution-neural-network/"
   ]
  },
  {
   "cell_type": "code",
   "execution_count": 17,
   "id": "e987f2c8-6e58-4930-a08d-4a39eccc1c9d",
   "metadata": {},
   "outputs": [],
   "source": [
    "import torch\n",
    "import torch.nn as nn\n",
    "import torch.nn.functional as F\n",
    "import torch.optim as optim"
   ]
  },
  {
   "cell_type": "code",
   "execution_count": 13,
   "id": "32e88462-7fc4-413b-abf3-69583561f3e5",
   "metadata": {},
   "outputs": [],
   "source": [
    "class TimeOfDayCNN(nn.Module):\n",
    "    def __init__(self):\n",
    "        super(TimeOfDayCNN, self).__init__()\n",
    "\n",
    "        # Dve konvolucijske plasti\n",
    "        self.conv1 = nn.Conv2d(in_channels=3, out_channels=16, kernel_size=3, padding=1)\n",
    "        self.pool = nn.MaxPool2d(2, 2)\n",
    "        \n",
    "        self.conv2 = nn.Conv2d(16, 32, 3, padding=1)\n",
    "\n",
    "        # Popolnoma povezana/Fully connected plast\n",
    "        self.fc1 = nn.Linear(32 * 56 * 56, 128)\n",
    "        self.fc2 = nn.Linear(128, 2)\n",
    "        \n",
    "    def forward(self, x): # Pooling\n",
    "        x = self.pool(F.relu(self.conv1(x)))\n",
    "        x = self.pool(F.relu(self.conv2(x)))\n",
    "        x = x.view(-1, 32 * 56 * 56)\n",
    "        x = F.relu(self.fc1(x))\n",
    "        x = self.fc2(x)\n",
    "        return x"
   ]
  },
  {
   "cell_type": "markdown",
   "id": "1f6e4581-07fa-4841-95ab-803a97dc0c4c",
   "metadata": {},
   "source": [
    "#### Testiranje obnašanja podatkov v modelu"
   ]
  },
  {
   "cell_type": "code",
   "execution_count": 16,
   "id": "ab949ea7-14f3-4c3a-b858-a4ce0e174527",
   "metadata": {},
   "outputs": [
    {
     "name": "stdout",
     "output_type": "stream",
     "text": [
      "Oblika vhodnih slik: torch.Size([32, 3, 224, 224])\n",
      "Oznake: tensor([0, 1, 0, 0, 0, 0, 1, 1, 0, 1, 0, 1, 0, 0, 1, 1, 1, 1, 1, 1, 1, 0, 1, 0,\n",
      "        1, 1, 1, 0, 1, 1, 1, 0])\n",
      "Oblika izhoda modela: torch.Size([32, 2])\n"
     ]
    }
   ],
   "source": [
    "device = torch.device(\"cuda\" if torch.cuda.is_available() else \"cpu\")\n",
    "model = TimeOfDayCNN().to(device)\n",
    "\n",
    "dataiter = iter(train_loader)\n",
    "images, labels = next(dataiter)\n",
    "\n",
    "print(\"Oblika vhodnih slik:\", images.shape)\n",
    "print(\"Oznake:\", labels)\n",
    "\n",
    "images = images.to(device)\n",
    "outputs = model(images)\n",
    "\n",
    "print(\"Oblika izhoda modela:\", outputs.shape)  # želim [32, 2] za 32 slik in 2 različne oznake"
   ]
  },
  {
   "cell_type": "code",
   "execution_count": 18,
   "id": "6798c53c-9d50-4a3f-b517-8f51e69be869",
   "metadata": {},
   "outputs": [],
   "source": [
    "# Loss funkcija in optimizer\n",
    "criterion = nn.CrossEntropyLoss()\n",
    "optimizer = optim.Adam(model.parameters(), lr=0.001)"
   ]
  },
  {
   "cell_type": "markdown",
   "id": "597176e1-2e7a-4074-a1b9-389adc69b4e0",
   "metadata": {},
   "source": [
    "#### Treniranje mreže"
   ]
  },
  {
   "cell_type": "code",
   "execution_count": null,
   "id": "a5e9d8e7-f06c-4fc5-ba88-2fbaa8e283c2",
   "metadata": {},
   "outputs": [],
   "source": [
    "num_epochs = 5 # Ni isto kot epizoda!, epoch - SL, episode - RL\n",
    "\n",
    "for epoch in range(num_epochs):\n",
    "    running_loss = 0.0\n",
    "    model.train()\n",
    "\n",
    "    for images, labels in train_loader:\n",
    "        images, labels = images.to(device), labels.to(device)\n",
    "\n",
    "        optimizer.zero_grad()\n",
    "        outputs = model(images)\n",
    "        loss = criterion(outputs, labels)\n",
    "        loss.backward()                  # Tukaj se izvede backpropagation\n",
    "        optimizer.step()\n",
    "\n",
    "        running_loss += loss.item()\n",
    "\n",
    "    avg_loss = running_loss / len(train_loader)\n",
    "    print(f\"Epoch {epoch+1}/{num_epochs} - Povprečna izguba: {avg_loss:.4f}\")"
   ]
  },
  {
   "cell_type": "code",
   "execution_count": null,
   "id": "07ebac41-b036-4a55-8a90-4177e298f324",
   "metadata": {},
   "outputs": [],
   "source": []
  }
 ],
 "metadata": {
  "kernelspec": {
   "display_name": "Python 3 (ipykernel)",
   "language": "python",
   "name": "python3"
  },
  "language_info": {
   "codemirror_mode": {
    "name": "ipython",
    "version": 3
   },
   "file_extension": ".py",
   "mimetype": "text/x-python",
   "name": "python",
   "nbconvert_exporter": "python",
   "pygments_lexer": "ipython3",
   "version": "3.9.21"
  }
 },
 "nbformat": 4,
 "nbformat_minor": 5
}
