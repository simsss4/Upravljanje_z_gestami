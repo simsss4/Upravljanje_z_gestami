{
 "cells": [
  {
   "cell_type": "code",
   "execution_count": 2,
   "id": "bb309f84-6b18-40af-bc45-5400470b0b7c",
   "metadata": {},
   "outputs": [],
   "source": [
    "import torch # Delo z matriki z CPU/GPU podporo\n",
    "from torchvision import datasets, transforms # Predprocesiranje slik\n",
    "from torch.utils.data import DataLoader # Obravnava podatkov po manjših sklopih"
   ]
  },
  {
   "cell_type": "code",
   "execution_count": 4,
   "id": "51b306b8-6c64-413d-8a30-2109db6b6e6e",
   "metadata": {},
   "outputs": [],
   "source": [
    "data_dir = 'Podatki_split'"
   ]
  },
  {
   "cell_type": "code",
   "execution_count": 5,
   "id": "6cee53ed-2786-4b4e-88c3-d7d2189c82bf",
   "metadata": {},
   "outputs": [],
   "source": [
    "# Definicija transofrmacije za konsistentnost podatkov (CNN želi 224x224, normalizacija)\n",
    "transform = transforms.Compose([\n",
    "    transforms.Resize((224, 224)),\n",
    "    transforms.ToTensor(),\n",
    "    transforms.Normalize([0.5, 0.5, 0.5], [0.5, 0.5, 0.5])\n",
    "])"
   ]
  },
  {
   "cell_type": "code",
   "execution_count": 6,
   "id": "6d0ae5ce-ec30-44d6-b70d-e20261a17519",
   "metadata": {},
   "outputs": [],
   "source": [
    "# Naloži slike iz map\n",
    "batch_size = 32\n",
    "\n",
    "train_dataset = datasets.ImageFolder(root=f'{data_dir}/timeofday/train', transform=transform)\n",
    "val_dataset   = datasets.ImageFolder(root=f'{data_dir}/timeofday/val', transform=transform)\n",
    "test_dataset  = datasets.ImageFolder(root=f'{data_dir}/timeofday/test', transform=transform)"
   ]
  },
  {
   "cell_type": "code",
   "execution_count": 7,
   "id": "0aa49d75-0948-4338-8c01-aad9a2b9707e",
   "metadata": {},
   "outputs": [],
   "source": [
    "# Razdeli slike po sklopih, boljša učinkovitost\n",
    "train_loader = DataLoader(train_dataset, batch_size=batch_size, shuffle=True)\n",
    "val_loader = DataLoader(val_dataset, batch_size=batch_size)\n",
    "test_loader = DataLoader(test_dataset, batch_size=batch_size)"
   ]
  },
  {
   "cell_type": "code",
   "execution_count": 9,
   "id": "82424dcb-5ebc-409d-bc1f-3dc145aebb21",
   "metadata": {},
   "outputs": [
    {
     "name": "stdout",
     "output_type": "stream",
     "text": [
      "Oznake/Labels: ['day', 'night']\n",
      "Število slik v učnem sklopu: 6430\n"
     ]
    }
   ],
   "source": [
    "print(\"Oznake/Labels:\", train_dataset.classes)\n",
    "print(\"Število slik v učnem sklopu:\", len(train_dataset))"
   ]
  },
  {
   "cell_type": "code",
   "execution_count": 10,
   "id": "e987f2c8-6e58-4930-a08d-4a39eccc1c9d",
   "metadata": {},
   "outputs": [],
   "source": [
    "import torch\n",
    "import torch.nn as nn\n",
    "import torch.nn.functional as F"
   ]
  },
  {
   "cell_type": "markdown",
   "id": "775e6676-c033-44cc-8e7c-e7d7e81ee4b4",
   "metadata": {},
   "source": [
    "#### Training a Classifier: https://docs.pytorch.org/tutorials/beginner/blitz/cifar10_tutorial.html\n",
    "##### Docs: https://www.geeksforgeeks.org/introduction-convolution-neural-network/"
   ]
  },
  {
   "cell_type": "code",
   "execution_count": 13,
   "id": "32e88462-7fc4-413b-abf3-69583561f3e5",
   "metadata": {},
   "outputs": [],
   "source": [
    "class TimeOfDayCNN(nn.Module):\n",
    "    def __init__(self):\n",
    "        super(TimeOfDayCNN, self).__init__()\n",
    "\n",
    "        # Dve konvolucijske plasti\n",
    "        self.conv1 = nn.Conv2d(in_channels=3, out_channels=16, kernel_size=3, padding=1)\n",
    "        self.pool = nn.MaxPool2d(2, 2)\n",
    "        \n",
    "        self.conv2 = nn.Conv2d(16, 32, 3, padding=1)\n",
    "\n",
    "        # Popolnoma povezana/Fully connected plast\n",
    "        self.fc1 = nn.Linear(32 * 56 * 56, 128)\n",
    "        self.fc2 = nn.Linear(128, 2)\n",
    "        \n",
    "    def forward(self, x): # Pooling\n",
    "        x = self.pool(F.relu(self.conv1(x)))\n",
    "        x = self.pool(F.relu(self.conv2(x)))\n",
    "        x = x.view(-1, 32 * 56 * 56)\n",
    "        x = F.relu(self.fc1(x))\n",
    "        x = self.fc2(x)\n",
    "        return x"
   ]
  },
  {
   "cell_type": "code",
   "execution_count": null,
   "id": "4b77ec5e-a4b1-4372-9088-76cc230cbe1a",
   "metadata": {},
   "outputs": [],
   "source": []
  },
  {
   "cell_type": "code",
   "execution_count": null,
   "id": "ab949ea7-14f3-4c3a-b858-a4ce0e174527",
   "metadata": {},
   "outputs": [],
   "source": []
  }
 ],
 "metadata": {
  "kernelspec": {
   "display_name": "Python 3 (ipykernel)",
   "language": "python",
   "name": "python3"
  },
  "language_info": {
   "codemirror_mode": {
    "name": "ipython",
    "version": 3
   },
   "file_extension": ".py",
   "mimetype": "text/x-python",
   "name": "python",
   "nbconvert_exporter": "python",
   "pygments_lexer": "ipython3",
   "version": "3.9.21"
  }
 },
 "nbformat": 4,
 "nbformat_minor": 5
}
