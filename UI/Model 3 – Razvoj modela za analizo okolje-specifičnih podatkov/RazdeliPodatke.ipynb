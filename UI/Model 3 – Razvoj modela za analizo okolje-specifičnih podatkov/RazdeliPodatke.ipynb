{
 "cells": [
  {
   "cell_type": "code",
   "execution_count": 1,
   "id": "42c6f970-a710-442e-8ac5-9b9823dfe85b",
   "metadata": {},
   "outputs": [],
   "source": [
    "import os\n",
    "import shutil\n",
    "from sklearn.model_selection import train_test_split"
   ]
  },
  {
   "cell_type": "code",
   "execution_count": 2,
   "id": "601540f6-2e7e-444a-9d18-acaf2d7d0b83",
   "metadata": {},
   "outputs": [],
   "source": [
    "def split_data(source_dir, dest_root, split_ratio=(0.7, 0.15, 0.15)):\n",
    "    # Pridobim vse podmape\n",
    "    classes = [d for d in os.listdir(source_dir) if os.path.isdir(os.path.join(source_dir, d))]\n",
    "\n",
    "    for class_name in classes:\n",
    "        class_path = os.path.join(source_dir, class_name)\n",
    "        \n",
    "        # Pridobi vse slike v tej podmapi\n",
    "        images = os.listdir(class_path)\n",
    "        images = [img for img in images if img.lower().endswith(('.png', '.jpg', '.jpeg'))]\n",
    "\n",
    "        # Razdelim kar z importano funkcijo\n",
    "        train_imgs, temp_imgs = train_test_split(images, test_size=1 - split_ratio[0], random_state=42)\n",
    "        val_imgs, test_imgs = train_test_split(temp_imgs, test_size=split_ratio[2] / (split_ratio[1] + split_ratio[2]), random_state=42)\n",
    "\n",
    "        # Sprehod čez razdeljenje podatke in ustvarjenje map + kopiranje slik\n",
    "        for split_name, split_imgs in zip(['train', 'val', 'test'], [train_imgs, val_imgs, test_imgs]):\n",
    "            split_dir = os.path.join(dest_root, split_name, class_name)\n",
    "            os.makedirs(split_dir, exist_ok=True)\n",
    "\n",
    "            for img in split_imgs:\n",
    "                src_path = os.path.join(class_path, img)\n",
    "                dst_path = os.path.join(split_dir, img)\n",
    "                shutil.copy2(src_path, dst_path)\n",
    "                # shutil.move(src_path, dst_path)  # Če želim slike premakniti (namesto kopirati), odkomentiraj to vrstico"
   ]
  },
  {
   "cell_type": "code",
   "execution_count": 3,
   "id": "a4b46e28-3fd4-4106-91f2-95ef03216a06",
   "metadata": {},
   "outputs": [],
   "source": [
    "split_data('Podatki/timeofday', 'Podatki_split/timeofday')\n",
    "split_data('Podatki/weather', 'Podatki_split/weather')"
   ]
  },
  {
   "cell_type": "code",
   "execution_count": null,
   "id": "c426804a-f60a-4973-9eef-35c02f2609c1",
   "metadata": {},
   "outputs": [],
   "source": []
  }
 ],
 "metadata": {
  "kernelspec": {
   "display_name": "Python 3 (ipykernel)",
   "language": "python",
   "name": "python3"
  },
  "language_info": {
   "codemirror_mode": {
    "name": "ipython",
    "version": 3
   },
   "file_extension": ".py",
   "mimetype": "text/x-python",
   "name": "python",
   "nbconvert_exporter": "python",
   "pygments_lexer": "ipython3",
   "version": "3.8.20"
  }
 },
 "nbformat": 4,
 "nbformat_minor": 5
}
