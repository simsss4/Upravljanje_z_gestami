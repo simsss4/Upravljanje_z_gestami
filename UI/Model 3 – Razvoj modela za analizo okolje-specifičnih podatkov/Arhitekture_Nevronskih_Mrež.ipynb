{
 "cells": [
  {
   "cell_type": "markdown",
   "id": "c258b7e4-86d6-4616-9ec6-8739c9fbc649",
   "metadata": {},
   "source": [
    "# Primeri arhitektur nevronskih mrež za analizo okolja"
   ]
  },
  {
   "cell_type": "markdown",
   "id": "3831bb03-8938-4d15-be0a-d121df83788b",
   "metadata": {},
   "source": [
    "## 1. Konvolucijske nevronske mreže (CNN)\n",
    "\n",
    "**Primerna uporaba**:\n",
    "- Analiza slik ali video posnetkov\n",
    "- Zaznavanje svetlobnih razmer (dan/noč)\n",
    "- Odkrivanje prisotnosti potnikov\n",
    "\n",
    "**Prednosti**:\n",
    "- Samodejno prepoznava prostorske vzorce (svetloba, barve, teksture)\n",
    "- Učinkovito obdeluje slikovne podatke\n",
    "- Robustnost na spremembe položaja kamere\n",
    "\n",
    "**Slabosti**:\n",
    "- Zahtevnejša implementacija kot osnovne mreže\n",
    "- Potrebuje večje količine podatkov"
   ]
  },
  {
   "cell_type": "markdown",
   "id": "93461fc5-3e34-4244-8e4d-9327258385de",
   "metadata": {},
   "source": [
    "# 2. Ponavljajoče mreže (RNN/LSTM)\n",
    "\n",
    "**Primerna uporaba**:\n",
    "- Analiza gibanja vozila skozi čas\n",
    "- Obdelava video zaporedij\n",
    "- Napovedovanje gibanja na podlagi preteklih okvirjev\n",
    "\n",
    "**Prednosti**:\n",
    "- Odlično obvladuje časovno odvisne podatke\n",
    "- Lahko zazna vzorce pospeševanja/upočasnjevanja\n",
    "\n",
    "**Slabosti**:\n",
    "- Počasnejše učenje kot CNN\n",
    "- Težje za usposabljanje"
   ]
  },
  {
   "cell_type": "markdown",
   "id": "ff2ea5b6-d469-46fa-a073-6cffaa0d1690",
   "metadata": {},
   "source": [
    "## 3. Hibridne mreže (CNN + LSTM)\n",
    "\n",
    "**Primerna uporaba**:\n",
    "- Kombinirana analiza slike in gibanja\n",
    "- Kompleksnejše scenarije zaznavanja okolja\n",
    "\n",
    "**Prednosti**:\n",
    "- Obvladuje tako prostorske kot časovne vzorce\n",
    "- Bolj natančne napovedi za kompleksne scenarije\n",
    "\n",
    "**Slabosti**:\n",
    "- Kompleksna implementacija\n",
    "- Visoke računske zahteve"
   ]
  },
  {
   "cell_type": "markdown",
   "id": "c49633c3-ac64-4903-b07e-7f9f7ca9f8aa",
   "metadata": {},
   "source": [
    "## 4. Večplastni perceptron (MLP)\n",
    "\n",
    "**Primerna uporaba**:\n",
    "- Hitra analiza vnaprej pripravljenih značilk\n",
    "- Enostavnejše klasifikacijske naloge\n",
    "\n",
    "**Prednosti**:\n",
    "- Enostavna implementacija\n",
    "- Hitro delovanje\n",
    "\n",
    "**Slabosti**:\n",
    "- Ne upošteva prostorskih ali časovnih odvisnosti\n",
    "- Manj natančen za kompleksne podatke\n"
   ]
  },
  {
   "cell_type": "markdown",
   "id": "d840e028-bdc4-400a-a2e7-3dd53162d9be",
   "metadata": {},
   "source": [
    "## Ključni dejavniki pri izbiri:\n",
    "- Količina razpoložljivih podatkov\n",
    "- Računska zmogljivost\n",
    "- Zahtevana natančnost\n",
    "- Časovna zahtevnost implementacije"
   ]
  },
  {
   "cell_type": "markdown",
   "id": "e234baf9-98be-4265-b6d4-030edf2014c1",
   "metadata": {},
   "source": [
    "## Izbira Arhitekture\n",
    "- Uporabil bom CNN za osnovno implementacijo\n",
    "- Če bo potrebno bom spremenil model v hibridni in dodal LSTM\n",
    "- Več: https://medium.com/@draj0718/convolutional-neural-networks-cnn-architectures-explained-716fb197b243"
   ]
  }
 ],
 "metadata": {
  "kernelspec": {
   "display_name": "Python 3 (ipykernel)",
   "language": "python",
   "name": "python3"
  },
  "language_info": {
   "codemirror_mode": {
    "name": "ipython",
    "version": 3
   },
   "file_extension": ".py",
   "mimetype": "text/x-python",
   "name": "python",
   "nbconvert_exporter": "python",
   "pygments_lexer": "ipython3",
   "version": "3.8.20"
  }
 },
 "nbformat": 4,
 "nbformat_minor": 5
}
