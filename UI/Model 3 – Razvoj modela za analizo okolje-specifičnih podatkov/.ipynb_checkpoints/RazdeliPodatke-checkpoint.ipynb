{
 "cells": [
  {
   "cell_type": "code",
   "execution_count": null,
   "id": "42c6f970-a710-442e-8ac5-9b9823dfe85b",
   "metadata": {},
   "outputs": [],
   "source": [
    "import os\n",
    "import random\n",
    "import shutil\n",
    "\n",
    "# Konfiguracija, priporočene nastavitve za razdelitev množic\n",
    "SOURCE_DIR = \"Podatki/Posnetki\"\n",
    "TRAIN_RATIO = 0.7\n",
    "VAL_RATIO = 0.15\n",
    "\n",
    "for folder in [\"Učni\", \"Validacijski\", \"Testni\"]:\n",
    "    os.makedirs(os.path.join(SOURCE_DIR, folder), exist_ok=True)\n",
    "\n",
    "# Shranim vse posnetke, ki so na voljo\n",
    "all_videos = []\n",
    "for root, dirs, files in os.walk(SOURCE_DIR):\n",
    "    for file in files:\n",
    "        if file.endswith('.mp4'):\n",
    "            all_videos.append(os.path.join(root, file))\n",
    "\n",
    "# Z random jih razdelim glede na razporeditev iz konfiguracije\n",
    "random.shuffle(all_videos)\n",
    "total = len(all_videos)\n",
    "train_end = int(total * TRAIN_RATIO)\n",
    "val_end = train_end + int(total * VAL_RATIO)\n",
    "\n",
    "# Prekopiram videe v ustrezne direkotirje\n",
    "for i, video_path in enumerate(all_videos):\n",
    "    filename = os.path.basename(video_path)\n",
    "    if i < train_end:\n",
    "        dest = os.path.join(SOURCE_DIR, \"Učni\", filename)\n",
    "    elif i < val_end:\n",
    "        dest = os.path.join(SOURCE_DIR, \"Validacijski\", filename)\n",
    "    else:\n",
    "        dest = os.path.join(SOURCE_DIR, \"Testni\", filename)\n",
    "    shutil.copy(video_path, dest)\n",
    "\n",
    "print(f\"Delitev množic končana: {train_end} train, {val_end-train_end} val, {total-val_end} test files\")"
   ]
  },
  {
   "cell_type": "code",
   "execution_count": null,
   "id": "601540f6-2e7e-444a-9d18-acaf2d7d0b83",
   "metadata": {},
   "outputs": [],
   "source": []
  }
 ],
 "metadata": {
  "kernelspec": {
   "display_name": "Python 3 (ipykernel)",
   "language": "python",
   "name": "python3"
  },
  "language_info": {
   "codemirror_mode": {
    "name": "ipython",
    "version": 3
   },
   "file_extension": ".py",
   "mimetype": "text/x-python",
   "name": "python",
   "nbconvert_exporter": "python",
   "pygments_lexer": "ipython3",
   "version": "3.8.15"
  }
 },
 "nbformat": 4,
 "nbformat_minor": 5
}
