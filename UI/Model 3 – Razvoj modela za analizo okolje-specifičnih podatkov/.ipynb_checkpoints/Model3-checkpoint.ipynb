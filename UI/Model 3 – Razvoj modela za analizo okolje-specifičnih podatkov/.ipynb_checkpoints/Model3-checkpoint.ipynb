{
 "cells": [
  {
   "cell_type": "code",
   "execution_count": 2,
   "id": "bb309f84-6b18-40af-bc45-5400470b0b7c",
   "metadata": {},
   "outputs": [],
   "source": [
    "import torch # Delo z matriki z CPU/GPU podporo\n",
    "from torchvision import datasets, transforms # Predprocesiranje slik\n",
    "from torch.utils.data import DataLoader # Obravnava podatkov po manjših sklopih"
   ]
  },
  {
   "cell_type": "code",
   "execution_count": 3,
   "id": "51b306b8-6c64-413d-8a30-2109db6b6e6e",
   "metadata": {},
   "outputs": [],
   "source": [
    "data_dir = 'Podatki_split'"
   ]
  },
  {
   "cell_type": "code",
   "execution_count": 10,
   "id": "6cee53ed-2786-4b4e-88c3-d7d2189c82bf",
   "metadata": {},
   "outputs": [],
   "source": [
    "# Definicija transofrmacije za konsistentnost podatkov (CNN želi 224x224, normalizacija)\n",
    "transform = transforms.Compose([\n",
    "    transforms.Resize((224, 224)),\n",
    "    transforms.ToTensor(),\n",
    "    transforms.Normalize([0.5, 0.5, 0.5], [0.5, 0.5, 0.5])\n",
    "])"
   ]
  },
  {
   "cell_type": "code",
   "execution_count": 11,
   "id": "6d0ae5ce-ec30-44d6-b70d-e20261a17519",
   "metadata": {},
   "outputs": [],
   "source": [
    "# Naloži slike iz map po sklopih\n",
    "batch_size = 32\n",
    "\n",
    "train_dataset = datasets.ImageFolder(root=f'{data_dir}/timeofday/train', transform=transform)\n",
    "val_dataset   = datasets.ImageFolder(root=f'{data_dir}/timeofday/val', transform=transform)\n",
    "test_dataset  = datasets.ImageFolder(root=f'{data_dir}/timeofday/test', transform=transform)"
   ]
  },
  {
   "cell_type": "code",
   "execution_count": 13,
   "id": "0aa49d75-0948-4338-8c01-aad9a2b9707e",
   "metadata": {},
   "outputs": [],
   "source": [
    "# Ustvari DataLoader-je za vsak sklop\n",
    "train_loader = DataLoader(train_dataset, batch_size=batch_size, shuffle=True)\n",
    "val_loader   = DataLoader(val_dataset, batch_size=batch_size)\n",
    "test_loader  = DataLoader(test_dataset, batch_size=batch_size)"
   ]
  },
  {
   "cell_type": "code",
   "execution_count": null,
   "id": "82424dcb-5ebc-409d-bc1f-3dc145aebb21",
   "metadata": {},
   "outputs": [],
   "source": [
    "# Izpiši razrede (da preverimo)\n",
    "print(\"Razredi (labeli):\", train_dataset.classes)\n",
    "print(\"Število slik v učnem sklopu:\", len(train_dataset))"
   ]
  }
 ],
 "metadata": {
  "kernelspec": {
   "display_name": "Python 3 (ipykernel)",
   "language": "python",
   "name": "python3"
  },
  "language_info": {
   "codemirror_mode": {
    "name": "ipython",
    "version": 3
   },
   "file_extension": ".py",
   "mimetype": "text/x-python",
   "name": "python",
   "nbconvert_exporter": "python",
   "pygments_lexer": "ipython3",
   "version": "3.9.21"
  }
 },
 "nbformat": 4,
 "nbformat_minor": 5
}
