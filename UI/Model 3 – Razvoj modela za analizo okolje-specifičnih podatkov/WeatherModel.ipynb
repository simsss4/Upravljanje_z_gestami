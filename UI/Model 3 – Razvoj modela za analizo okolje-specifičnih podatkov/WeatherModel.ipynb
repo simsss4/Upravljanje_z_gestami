{
 "cells": [
  {
   "cell_type": "code",
   "execution_count": 1,
   "id": "81da2dad-81ee-4d05-bd76-ec0d63272190",
   "metadata": {},
   "outputs": [],
   "source": [
    "import torch\n",
    "import torch.nn as nn\n",
    "import torch.optim as optim\n",
    "from torchvision import datasets, transforms, models\n",
    "from torch.utils.data import DataLoader\n",
    "import os"
   ]
  },
  {
   "cell_type": "markdown",
   "id": "51044549-4394-4779-91ad-72dd32280e91",
   "metadata": {},
   "source": [
    "#### Končni rezultat oz. izpis uporabniku\n",
    "    - Ko model prepozna dan/noč ali jasno/deževno/megleno želim uporabniku olajšati vožnjo zato bo glede na te spremeljivke se izvedla ustrezna funkcija kot je: vklop meglenk, brisalcev, ambientne osvetljave, dvig senčnikov\n",
    "    - Po vhodu slike mora model prepoznati 1"
   ]
  },
  {
   "cell_type": "code",
   "execution_count": 2,
   "id": "d50a0454-4b76-43b6-aed3-78b96ddb28b6",
   "metadata": {},
   "outputs": [],
   "source": [
    "data_dir = \"Podatki_split/weather\""
   ]
  },
  {
   "cell_type": "code",
   "execution_count": 3,
   "id": "46805bf2-48bf-46b5-ac22-99e05263a5d9",
   "metadata": {},
   "outputs": [],
   "source": [
    "transform = transforms.Compose([\n",
    "    transforms.Resize((224, 224)),\n",
    "    transforms.ToTensor(),\n",
    "    transforms.Normalize([0.5, 0.5, 0.5], [0.5, 0.5, 0.5])\n",
    "])"
   ]
  },
  {
   "cell_type": "code",
   "execution_count": 5,
   "id": "13fa793b-4891-4bc2-bb85-a87f22f74ff7",
   "metadata": {},
   "outputs": [],
   "source": [
    "batch_size = 32\n",
    "\n",
    "train_dataset = datasets.ImageFolder(root=f'{data_dir}/train', transform=transform)\n",
    "val_dataset   = datasets.ImageFolder(root=f'{data_dir}/val', transform=transform)\n",
    "test_dataset  = datasets.ImageFolder(root=f'{data_dir}/test', transform=transform)\n",
    "\n",
    "train_loader = DataLoader(train_dataset, batch_size=batch_size, shuffle=True)\n",
    "val_loader = DataLoader(val_dataset, batch_size=batch_size, shuffle=False)\n",
    "test_loader = DataLoader(test_dataset, batch_size=batch_size)"
   ]
  },
  {
   "cell_type": "code",
   "execution_count": 6,
   "id": "f051868c-4627-44b6-b06b-73d2a541d9d2",
   "metadata": {},
   "outputs": [
    {
     "name": "stdout",
     "output_type": "stream",
     "text": [
      "Oznake/Labels: ['clear', 'foggy', 'rainy']\n",
      "Število slik v učnem sklopu: 573\n"
     ]
    }
   ],
   "source": [
    "print(\"Oznake/Labels:\", train_dataset.classes)\n",
    "print(\"Število slik v učnem sklopu:\", len(train_dataset))"
   ]
  },
  {
   "cell_type": "markdown",
   "id": "878e77e5-3e4f-40ea-885c-98f7a1093353",
   "metadata": {},
   "source": [
    "#### Training a Classifier: https://docs.pytorch.org/tutorials/beginner/blitz/cifar10_tutorial.html\n",
    "##### Docs: https://www.geeksforgeeks.org/introduction-convolution-neural-network/"
   ]
  },
  {
   "cell_type": "code",
   "execution_count": 7,
   "id": "812bb276-1caf-403b-82e5-dc97e5dcccc0",
   "metadata": {},
   "outputs": [],
   "source": [
    "import torch.nn as nn\n",
    "import torch.nn.functional as F"
   ]
  },
  {
   "cell_type": "code",
   "execution_count": 8,
   "id": "5d8b87ef-1d9f-4378-9072-6ec4a75184c4",
   "metadata": {},
   "outputs": [],
   "source": [
    "class WeatherCNN(nn.Module):\n",
    "    def __init__(self):\n",
    "        super(WeatherCNN, self).__init__()\n",
    "\n",
    "        # Dve konvolucijske plasti\n",
    "        self.conv1 = nn.Conv2d(in_channels=3, out_channels=16, kernel_size=3, padding=1)\n",
    "        self.pool = nn.MaxPool2d(2, 2)\n",
    "        self.conv2 = nn.Conv2d(16, 32, 3, padding=1)\n",
    "\n",
    "        # Popolnoma povezana/Fully connected plast\n",
    "        self.fc1 = nn.Linear(32 * 56 * 56, 128)\n",
    "        self.fc2 = nn.Linear(128, 3)  # Izhod zdaj 3 oznake, pri TimeOfDay 2\n",
    "\n",
    "    def forward(self, x):\n",
    "        x = self.pool(F.relu(self.conv1(x)))\n",
    "        x = self.pool(F.relu(self.conv2(x)))\n",
    "        x = x.view(-1, 32 * 56 * 56)\n",
    "        x = F.relu(self.fc1(x))\n",
    "        x = self.fc2(x)\n",
    "        return x"
   ]
  },
  {
   "cell_type": "code",
   "execution_count": 12,
   "id": "ef04b9d0-1122-432d-8e2a-ebb13dfc32ff",
   "metadata": {},
   "outputs": [],
   "source": [
    "#Inicializacija modela in nastavitev loss funkcije in optimizerja\n",
    "device = torch.device(\"cuda\" if torch.cuda.is_available() else \"cpu\")\n",
    "\n",
    "model_weather = WeatherCNN().to(device)\n",
    "criterion = nn.CrossEntropyLoss()\n",
    "optimizer = optim.Adam(model_weather.parameters(), lr=0.001)"
   ]
  },
  {
   "cell_type": "code",
   "execution_count": 11,
   "id": "a9ede9ab-50f5-4863-acc4-266a22ce0526",
   "metadata": {},
   "outputs": [],
   "source": [
    "def validate(model, validation_loader, criterion):\n",
    "    model.eval()\n",
    "    \n",
    "    running_loss = 0.0\n",
    "    correct = 0\n",
    "    total = 0\n",
    "\n",
    "    with torch.no_grad():\n",
    "        for inputs, labels in validation_loader:\n",
    "            inputs, labels = inputs.to(device), labels.to(device)\n",
    "\n",
    "            outputs = model(inputs)\n",
    "            loss = criterion(outputs, labels)\n",
    "\n",
    "            running_loss += loss.item()\n",
    "            _, predicted = torch.max(outputs, 1)\n",
    "            total += labels.size(0)\n",
    "            correct += (predicted == labels).sum().item()\n",
    "\n",
    "    avg_loss = running_loss / len(validation_loader)\n",
    "    accuracy = 100 * correct / total\n",
    "\n",
    "    return avg_loss, accuracy"
   ]
  },
  {
   "cell_type": "code",
   "execution_count": null,
   "id": "51acb21a-4aab-4c0a-a698-e0c9edbc5ac5",
   "metadata": {},
   "outputs": [],
   "source": [
    "from tqdm import tqdm\n",
    "\n",
    "num_epochs = 5 # Ni isto kot epizoda!, epoch - SL, episode - RL\n",
    "\n",
    "for epoch in range(num_epochs):\n",
    "    running_loss = 0.0\n",
    "    model_weather.train()\n",
    "\n",
    "    progress_bar = tqdm(train_loader, desc=f\"Epoch {epoch+1}/{num_epochs}\")\n",
    "\n",
    "    for images, labels in progress_bar:\n",
    "        images, labels = images.to(device), labels.to(device)\n",
    "\n",
    "        optimizer.zero_grad()\n",
    "        outputs = model(images)\n",
    "        loss = criterion(outputs, labels)\n",
    "        loss.backward()                  # Tukaj se izvede backpropagation\n",
    "        optimizer.step()\n",
    "\n",
    "        running_loss += loss.item()\n",
    "        progress_bar.set_postfix({\"Loss\": running_loss / (progress_bar.n + 1)})\n",
    "\n",
    "    avg_loss = running_loss / len(train_loader)\n",
    "\n",
    "    # Validacija\n",
    "    val_loss, val_accuracy = validate(model, val_loader, criterion)\n",
    "    \n",
    "    print(f\"Epoch {epoch+1}/{num_epochs} - Training Loss: {avg_loss:.4f}, \"\n",
    "          f\"Validation Loss: {val_loss:.4f}, Validation Accuracy: {val_accuracy:.2f}%\")"
   ]
  },
  {
   "cell_type": "code",
   "execution_count": null,
   "id": "eab7949d-2021-44ff-bae4-b926d3febd7f",
   "metadata": {},
   "outputs": [],
   "source": []
  }
 ],
 "metadata": {
  "kernelspec": {
   "display_name": "Python 3 (ipykernel)",
   "language": "python",
   "name": "python3"
  },
  "language_info": {
   "codemirror_mode": {
    "name": "ipython",
    "version": 3
   },
   "file_extension": ".py",
   "mimetype": "text/x-python",
   "name": "python",
   "nbconvert_exporter": "python",
   "pygments_lexer": "ipython3",
   "version": "3.9.21"
  }
 },
 "nbformat": 4,
 "nbformat_minor": 5
}
