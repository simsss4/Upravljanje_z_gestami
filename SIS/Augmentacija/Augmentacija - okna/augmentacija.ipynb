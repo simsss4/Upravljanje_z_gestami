{
 "cells": [
  {
   "cell_type": "code",
   "execution_count": 1,
   "id": "3aa93d0c-a70e-4cee-9f69-9cda50cd4004",
   "metadata": {},
   "outputs": [],
   "source": [
    "import numpy as np\n",
    "import scipy.signal\n",
    "import os\n",
    "import random"
   ]
  },
  {
   "cell_type": "code",
   "execution_count": 15,
   "id": "75af863e-1560-4746-9bc0-480d899fcb3f",
   "metadata": {},
   "outputs": [],
   "source": [
    "def normalize_signal(signal):\n",
    "    signal = signal.copy()\n",
    "    non_zero_mask = np.any(signal != 0, axis=1)  # Ignoriraj prazne vrstice\n",
    "    if np.any(non_zero_mask):\n",
    "        non_zero_signal = signal[non_zero_mask]\n",
    "        min_val = non_zero_signal.min()\n",
    "        max_val = non_zero_signal.max()\n",
    "        if max_val > min_val:\n",
    "            signal[non_zero_mask] = (non_zero_signal - min_val) / (max_val - min_val)\n",
    "    return signal\n",
    "\n",
    "def add_noise(signal, noise_level=0.01):\n",
    "    # Dodam random noise, ustvari \"jitter\" efekt\n",
    "    noise = np.random.normal(0, noise_level, signal.shape)\n",
    "    signal = signal.copy()\n",
    "    non_zero_mask = np.any(signal != 0, axis=1)\n",
    "    signal[non_zero_mask] += noise[non_zero_mask]\n",
    "    return signal\n",
    "\n",
    "def frame_shift(signal, max_shift=10):\n",
    "    # Zamaknem frame, ustvari efekt zamujene/predčasne geste\n",
    "    shift = np.random.randint(-max_shift, max_shift + 1)\n",
    "    signal = signal.copy()\n",
    "    if shift > 0:\n",
    "        signal[:-shift] = signal[shift:]\n",
    "        signal[-shift:] = 0\n",
    "    elif shift < 0:\n",
    "        shift = abs(shift)\n",
    "        signal[shift:] = signal[:-shift]\n",
    "        signal[:shift] = 0 \n",
    "    return signal\n",
    "\n",
    "def smoothing(signal, window_size=5):\n",
    "    # Hann window za glajenje podatkov/gest\n",
    "    window = scipy.signal.windows.hann(window_size)\n",
    "    signal = signal.copy()\n",
    "    non_zero_mask = np.any(signal != 0, axis=1)\n",
    "    frames = np.where(non_zero_mask)[0]\n",
    "    if len(frames) > window_size:\n",
    "        for i in range(signal.shape[1]):\n",
    "            signal[frames, i] = np.convolve(signal[frames, i], window / window.sum(), mode='same')\n",
    "    return signal"
   ]
  },
  {
   "cell_type": "code",
   "execution_count": 16,
   "id": "1cb36a60-d0fa-4ea4-907d-e98b359501fa",
   "metadata": {},
   "outputs": [],
   "source": [
    "def transform(signal):\n",
    "    signal = signal.copy()\n",
    "    signal = normalize_signal(signal)\n",
    "\n",
    "    # Randomly izbere augmentacijo\n",
    "    if random.random() < 0.7:\n",
    "        signal = add_noise(signal)\n",
    "\n",
    "    if random.random() < 0.7:\n",
    "        signal = frame_shift(signal)\n",
    "\n",
    "    if random.random() < 0.7:\n",
    "        signal = smoothing(signal)\n",
    "\n",
    "    signal = normalize_signal(signal)  # Ponovna normalizacija\n",
    "\n",
    "    return {'data': signal}"
   ]
  },
  {
   "cell_type": "code",
   "execution_count": null,
   "id": "fa063b14-3f18-4dc9-b434-63de5d8cca9b",
   "metadata": {},
   "outputs": [],
   "source": [
    "input_file = \"Podatki/desna_odprto_dol/desna_odprto_dol_1.npy\"  # Vhodni 3D signal\n",
    "signal = np.load(input_file)\n",
    "print(\"Originalni signal:\", signal.shape)\n",
    "\n",
    "base_name = os.path.splitext(os.path.basename(input_file))[0]\n",
    "\n",
    "output_dir = os.path.join(\"Augmented_Podatki\", base_name)\n",
    "os.makedirs(output_dir, exist_ok=True)\n",
    "\n",
    "np.random.seed(42)\n",
    "\n",
    "# Generiranje 10 novih primerkov\n",
    "for i in range(10):\n",
    "    augmented = transform(signal)\n",
    "    augmented_signal = augmented['data']\n",
    "\n",
    "    output_path = os.path.join(output_dir, f\"augmented_signal_{i}.npy\")\n",
    "    np.save(output_path, augmented_signal)\n",
    "\n",
    "    print(f\"Saved: {output_path}, shape: {augmented_signal.shape}\")"
   ]
  },
  {
   "cell_type": "code",
   "execution_count": null,
   "id": "777838c8-89c2-4ce6-a8d1-381070596526",
   "metadata": {},
   "outputs": [],
   "source": []
  }
 ],
 "metadata": {
  "kernelspec": {
   "display_name": "Python 3 (ipykernel)",
   "language": "python",
   "name": "python3"
  },
  "language_info": {
   "codemirror_mode": {
    "name": "ipython",
    "version": 3
   },
   "file_extension": ".py",
   "mimetype": "text/x-python",
   "name": "python",
   "nbconvert_exporter": "python",
   "pygments_lexer": "ipython3",
   "version": "3.12.3"
  }
 },
 "nbformat": 4,
 "nbformat_minor": 5
}
